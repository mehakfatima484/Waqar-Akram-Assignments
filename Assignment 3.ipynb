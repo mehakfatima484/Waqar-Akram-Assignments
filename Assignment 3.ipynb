{
 "cells": [
  {
   "cell_type": "code",
   "execution_count": 1,
   "metadata": {},
   "outputs": [
    {
     "name": "stdout",
     "output_type": "stream",
     "text": [
      "Please Enter 1st Number: 33\n",
      "Please Enter 2nd Number: 3\n",
      "Select the operator which you want to Perform\n",
      "1.Addition\n",
      "2.Subtraction\n",
      "3.Multipication\n",
      "4.Division\n",
      "5.Power\n",
      "4\n",
      "('The Addition of two numbers are', 36)\n"
     ]
    }
   ],
   "source": [
    "# Question:1\n",
    "num1=int(input(\"Please Enter 1st Number: \"))\n",
    "num2=int(input(\"Please Enter 2nd Number: \"))\n",
    "print(\"Select the operator which you want to Perform\")\n",
    "\n",
    "op=input(\"1.Addition\\n2.Subtraction\\n3.Multipication\\n4.Division\\n5.Power\\n\")\n",
    "result=\" \"\n",
    "if op==\"1\" or \"addition\" or \"Addition\":\n",
    "    result=\"The Addition of two numbers are\",num1+num2\n",
    "    #print(result)\n",
    "elif op==\"2\" or \"subtraction\" or \"Subtraction\":\n",
    "    result=num1-num2\n",
    "    #print(result)\n",
    "elif op==\"3\" or \"multiplication\" or \"Multiplication\":\n",
    "    result=num1*num2\n",
    "    #print(result)\n",
    "elif op==\"4\" or \"division\" or \"Division\" :\n",
    "    result=num1/num2\n",
    "    #print(result)\n",
    "elif op==\"5\" or \"power\" or \"Power\":\n",
    "    result=num1**num2\n",
    "    #print(result)\n",
    "else:\n",
    "    print(\"Invalid Operator\")\n",
    "print(result)"
   ]
  },
  {
   "cell_type": "code",
   "execution_count": 2,
   "metadata": {},
   "outputs": [
    {
     "name": "stdout",
     "output_type": "stream",
     "text": [
      "2\n",
      "999\n"
     ]
    }
   ],
   "source": [
    "# Question:2\n",
    "list1=[2,\"Rao\",34.24,'Karachi',999,\"Waqar\"]\n",
    "\n",
    "for item in list1:\n",
    "    if (isinstance(item,int))==True:\n",
    "        print(item)"
   ]
  },
  {
   "cell_type": "code",
   "execution_count": 3,
   "metadata": {},
   "outputs": [
    {
     "name": "stdout",
     "output_type": "stream",
     "text": [
      "Waqar\n",
      "{'name': 'Waqar', 'class': 'Bscs', 'roll_no': 17, 'adress': 'Karachi'}\n"
     ]
    }
   ],
   "source": [
    "##Question:3\n",
    "dict={\"name\":\"Waqar\",\"class\":\"Bscs\",\"roll_no\":17}\n",
    "print(dict[\"name\"])\n",
    "dict[\"adress\"]=\"Karachi\"\n",
    "print(dict)"
   ]
  },
  {
   "cell_type": "code",
   "execution_count": 4,
   "metadata": {},
   "outputs": [
    {
     "name": "stdout",
     "output_type": "stream",
     "text": [
      "15\n"
     ]
    }
   ],
   "source": [
    "#Question:4\n",
    "dict={\"Ahmad\":1,\"Danish\":2,\"Rubina\":3,\"Sajawal\":4,\"Sajad\":5}\n",
    "print(sum(dict.values()))"
   ]
  },
  {
   "cell_type": "code",
   "execution_count": 5,
   "metadata": {},
   "outputs": [
    {
     "data": {
      "text/plain": [
       "{1, 4, 5, 6}"
      ]
     },
     "execution_count": 5,
     "metadata": {},
     "output_type": "execute_result"
    }
   ],
   "source": [
    "#Question:5\n",
    "l = [1,2,3,4,4,5,5,6,1,6,7,9]\n",
    "set([x for x in l if l.count(x) > 1])"
   ]
  },
  {
   "cell_type": "code",
   "execution_count": 11,
   "metadata": {},
   "outputs": [
    {
     "name": "stdout",
     "output_type": "stream",
     "text": [
      "Enter any key to Check it exist or not5\n",
      "This key is not found in dictionary\n"
     ]
    }
   ],
   "source": [
    "#Question:6\n",
    "dict={1:\"Ahmad\",2:\"Danish\",3:\"Rubina\",4:\"Sajawal\",5:\"Sajad\"}\n",
    "val=input(\"Enter any key to Check it exist or not\")\n",
    "\n",
    "if val in dict:\n",
    "    print(\"This key is already Exist\")\n",
    "else:\n",
    "    print(\"This key is not found in dictionary\")"
   ]
  }
 ],
 "metadata": {
  "kernelspec": {
   "display_name": "Python 3",
   "language": "python",
   "name": "python3"
  },
  "language_info": {
   "codemirror_mode": {
    "name": "ipython",
    "version": 3
   },
   "file_extension": ".py",
   "mimetype": "text/x-python",
   "name": "python",
   "nbconvert_exporter": "python",
   "pygments_lexer": "ipython3",
   "version": "3.7.4"
  }
 },
 "nbformat": 4,
 "nbformat_minor": 2
}
