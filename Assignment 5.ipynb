{
 "cells": [
  {
   "cell_type": "markdown",
   "metadata": {},
   "source": [
    "# Question:1"
   ]
  },
  {
   "cell_type": "code",
   "execution_count": 1,
   "metadata": {},
   "outputs": [
    {
     "name": "stdout",
     "output_type": "stream",
     "text": [
      "Please Enter a Postive number to find its fictorial10\n",
      "3628800\n"
     ]
    }
   ],
   "source": [
    "# Write a Python function to calculate the factorial of a number (a non-negative integer). The function accepts the number as an argument.\n",
    "def factorial(number):\n",
    "    if number <0:\n",
    "        print(\"Enter a Postive number\")\n",
    "    elif number==0 or number==1:\n",
    "        return 1\n",
    "    else:\n",
    "        return number * factorial(number-1)\n",
    "    \n",
    "number=int(input(\"Please Enter a Postive number to find its fictorial\"))\n",
    "fact=factorial(number)\n",
    "print(fact)"
   ]
  },
  {
   "cell_type": "markdown",
   "metadata": {},
   "source": [
    "# Question:2"
   ]
  },
  {
   "cell_type": "code",
   "execution_count": 2,
   "metadata": {},
   "outputs": [
    {
     "name": "stdout",
     "output_type": "stream",
     "text": [
      "Enter a String to check the strength of UPPER an lower Case letter I m Shahzad Sexy I need Long and Hard Lun\n",
      "Your String has 25 Lower Case Character\n",
      "Your String has 7 UPPER Case Character\n",
      "Your String has 9 Spaces\n"
     ]
    }
   ],
   "source": [
    "#Write a Python function that accepts a string and calculate the number of upper case letters and lower case letters.\n",
    "def str_func(string):\n",
    "    uchar=0\n",
    "    lchar=0\n",
    "    space=0\n",
    "    for char in word:\n",
    "        if (char.isupper()):\n",
    "        #if char>='A' and char<='Z':\n",
    "            uchar+=1\n",
    "        elif (char.islower()):\n",
    "        #elif char>='a' and char<='z':\n",
    "            lchar+=1\n",
    "        else:\n",
    "            space+=1\n",
    "    return (\"Your String has\"+\" \"+str(lchar)+\" Lower Case Character\"+\"\\n\"+\"Your String has \"+str(uchar)+\" UPPER Case Character\"+\"\\n\"+\"Your String has \"+str(space)+\" Spaces\")\n",
    "word=input(\"Enter a String to check the strength of UPPER an lower Case letter \")\n",
    "strength=str_func(word)\n",
    "print(strength)"
   ]
  },
  {
   "cell_type": "markdown",
   "metadata": {},
   "source": [
    "# Question:3"
   ]
  },
  {
   "cell_type": "code",
   "execution_count": 3,
   "metadata": {},
   "outputs": [
    {
     "name": "stdout",
     "output_type": "stream",
     "text": [
      "[2, 34, 88, 90]\n"
     ]
    }
   ],
   "source": [
    "#Write a Python function to print the even numbers from a given list.\n",
    "#list1=[2,45,7,34,88,90,69]\n",
    "even=[]\n",
    "def even(list):\n",
    "    evenitem=[]\n",
    "    for item in list:\n",
    "        if item%2==0:\n",
    "            evenitem.append(item)\n",
    "    return evenitem \n",
    "list1=int(input(\"Enter a list of multiple numbers randomly\"))\n",
    "result=even(list1)\n",
    "print(result)"
   ]
  },
  {
   "cell_type": "markdown",
   "metadata": {},
   "source": [
    "# Question:4"
   ]
  },
  {
   "cell_type": "code",
   "execution_count": 4,
   "metadata": {},
   "outputs": [
    {
     "name": "stdout",
     "output_type": "stream",
     "text": [
      "Enter A string to Check that is Palindrome or not abba\n",
      "True\n"
     ]
    }
   ],
   "source": [
    "#Write a Python function that checks whether a passed string is palindrome or not.\n",
    "def reverse(s):\n",
    "    return s[::-1]\n",
    "def ispalindrome(s):\n",
    "     rev=reverse(s)\n",
    "     if rev==s:\n",
    "        return True\n",
    "     return False\n",
    "word=input(\"Enter A string to Check that is Palindrome or not \") \n",
    "check=ispalindrome(word)\n",
    "print(check)"
   ]
  },
  {
   "cell_type": "markdown",
   "metadata": {},
   "source": [
    "# Question:5 "
   ]
  },
  {
   "cell_type": "code",
   "execution_count": 5,
   "metadata": {},
   "outputs": [
    {
     "name": "stdout",
     "output_type": "stream",
     "text": [
      "Enter a number to check its prime or not77\n",
      "This numer is not Prime\n"
     ]
    }
   ],
   "source": [
    "#Write a Python function that takes a number as a parameter and check the number is prime or not.\n",
    "def prime(number):\n",
    "    counter=0\n",
    "    for i in range(1,number+1):\n",
    "        if number%i==0:\n",
    "            counter+=1\n",
    "    if counter==2:\n",
    "        return True\n",
    "    return False\n",
    "num=int(input(\"Enter a number to check its prime or not\"))\n",
    "ans=prime(num)\n",
    "if ans==1:\n",
    "    print(\"This number is Prime\")\n",
    "else:\n",
    "    print(\"This numer is not Prime\")"
   ]
  },
  {
   "cell_type": "markdown",
   "metadata": {},
   "source": [
    "# Question:6 "
   ]
  },
  {
   "cell_type": "code",
   "execution_count": 6,
   "metadata": {},
   "outputs": [
    {
     "name": "stdout",
     "output_type": "stream",
     "text": [
      "Enter Your UserName Shahzad\n",
      "Enter from where you have done your Shopping Bwp\n",
      "Enter the item What you have Purchased or press q to Quit Brazer\n",
      "Enter the item What you have Purchased or press q to Quit Brouse\n",
      "Enter the item What you have Purchased or press q to Quit Underware\n",
      "Enter the item What you have Purchased or press q to Quit plastic lun\n",
      "Enter the item What you have Purchased or press q to Quit q\n",
      "Mr.Shahzad have done his Shopping from Bwp.He has purchased the following items\n",
      "\n",
      "['Brazer', 'Brouse', 'Underware', 'plastic lun', 'q']\n",
      "None\n"
     ]
    }
   ],
   "source": [
    "#Write a function which accepts the multiple arguments of user shopping list and print all the items which user bought from market.\n",
    "def shopping(name,city,*params):\n",
    "    print(\"Mr.\"+name+\" have done his Shopping from \"+city+\".He has purchased the following items\\n\")\n",
    "    for param in params:\n",
    "        print(param)\n",
    "user=input(\"Enter Your UserName \")\n",
    "city=input(\"Enter from where you have done your Shopping \") \n",
    "user_input=\"\"\n",
    "list1=[]\n",
    "while(user_input!=\"q\"):\n",
    "    user_input=input(\"Enter the item What you have Purchased or press q to Quit \")\n",
    "    list1.append(user_input)\n",
    "result=shopping(user,city,list1)\n",
    "print(result)"
   ]
  },
  {
   "cell_type": "code",
   "execution_count": null,
   "metadata": {},
   "outputs": [],
   "source": []
  }
 ],
 "metadata": {
  "kernelspec": {
   "display_name": "Python 3",
   "language": "python",
   "name": "python3"
  },
  "language_info": {
   "codemirror_mode": {
    "name": "ipython",
    "version": 3
   },
   "file_extension": ".py",
   "mimetype": "text/x-python",
   "name": "python",
   "nbconvert_exporter": "python",
   "pygments_lexer": "ipython3",
   "version": "3.7.4"
  }
 },
 "nbformat": 4,
 "nbformat_minor": 2
}
