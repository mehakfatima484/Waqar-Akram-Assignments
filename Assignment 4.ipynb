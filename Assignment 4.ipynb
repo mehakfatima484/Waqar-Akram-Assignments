{
 "cells": [
  {
   "cell_type": "code",
   "execution_count": 1,
   "metadata": {},
   "outputs": [],
   "source": [
    "# Question:1\n",
    "friend={\"fname\":\"Waqar\",\"lname\":\"Akram\",\"age\":22,\"city\":\"Karachi\"}\n",
    "print(friend)\n",
    "friend[\"qualification\"]=\"BSCS\"\n",
    "print(friend)\n",
    "del friend[\"qualification\"]\n",
    "print(friend)"
   ]
  },
  {
   "cell_type": "code",
   "execution_count": 2,
   "metadata": {},
   "outputs": [
    {
     "name": "stdout",
     "output_type": "stream",
     "text": [
      "{'country': 'Pakistan', 'population': '14.91 Million', 'fact': 'It is the Sixth largest city in the world by city population.'}\n",
      "{'country': 'Pakistan', 'population': '1.733 Million', 'fact': ' It is the second largest city of Sindh.'}\n",
      "{'country': 'Pakistan', 'population': '11.13 Million', 'fact': 'Lahore is the capital city of the Pakistani province of Punjab.'}\n"
     ]
    }
   ],
   "source": [
    "#Question:2\n",
    "cities={\n",
    "    \"karachi\":{\n",
    "        \"country\":\"Pakistan\",\n",
    "        \"population\":\"14.91 Million\",\n",
    "        \"fact\":\"It is the Sixth largest city in the world by city population.\"\n",
    "    },\n",
    "    \"hyderabad\":{\n",
    "        \"country\":\"Pakistan\",\n",
    "        \"population\":\"1.733 Million\",\n",
    "        \"fact\":\" It is the second largest city of Sindh.\"\n",
    "    },\n",
    "    \"lahore\":{\n",
    "        \"country\":\"Pakistan\",\n",
    "        \"population\":\"11.13 Million\",\n",
    "        \"fact\":\"Lahore is the capital city of the Pakistani province of Punjab.\"\n",
    "    }\n",
    "}\n",
    "print(cities[\"karachi\"])\n",
    "print(cities[\"hyderabad\"])\n",
    "print(cities[\"lahore\"])"
   ]
  },
  {
   "cell_type": "code",
   "execution_count": 3,
   "metadata": {},
   "outputs": [
    {
     "name": "stdout",
     "output_type": "stream",
     "text": [
      "Do you want to book your Movie Ticketyes\n",
      "Enter your age for Movie Ticket5\n",
      "Your Movie ticket price is 10$\n",
      "Do you want to book your Movie Ticketyes\n",
      "Enter your age for Movie Ticket1\n",
      "Congrats!..Your ticket is free\n",
      "Do you want to book your Movie Ticketyes\n",
      "Enter your age for Movie Ticket99\n",
      "Your Movie ticket price is 15$\n",
      "Do you want to book your Movie Ticketno\n"
     ]
    }
   ],
   "source": [
    "# Question:3\n",
    "\n",
    "for i in range(50):\n",
    "    answer=input(\"Do you want to book your Movie Ticket\")\n",
    "    if answer==\"no\":\n",
    "        break;\n",
    "    age=int(input(\"Enter your age for Movie Ticket\"))\n",
    "    if age<3:\n",
    "        print(\"Congrats!..Your ticket is free\")\n",
    "    elif age<=12 and age>3:\n",
    "        print(\"Your Movie ticket price is 10$\")\n",
    "    else:\n",
    "        print(\"Your Movie ticket price is 15$\")"
   ]
  },
  {
   "cell_type": "code",
   "execution_count": 4,
   "metadata": {},
   "outputs": [
    {
     "name": "stdout",
     "output_type": "stream",
     "text": [
      "One of my favourite book is waqar\n"
     ]
    }
   ],
   "source": [
    "#question:4\n",
    "def fav_book(title):\n",
    "    print(\"One of my favourite book is \"+title)\n",
    "fav_book(\"waqar\")"
   ]
  },
  {
   "cell_type": "code",
   "execution_count": null,
   "metadata": {},
   "outputs": [],
   "source": [
    "##Question:5\n",
    "import random\n",
    "guesstaken=0\n",
    "for x in range(1):\n",
    "    number=random.randint(1, 30)\n",
    "name=input(\"Please enter your name\")\n",
    "\n",
    "print(\"Welcome \"+name+\"! we are guessing a number for you between 1 to 30\")\n",
    "\n",
    "while guesstaken<6:\n",
    "    print(\"Take a guess\")\n",
    "    guess=int(input())\n",
    "    guesstaken=guesstaken+1\n",
    "    if guess<number:\n",
    "        print(\"Your guess is too low\")\n",
    "    if guess>number:\n",
    "        print(\"Your guess is too high\")\n",
    "    if guess==number:\n",
    "        break\n",
    "if guess==number:\n",
    "    print(\"you select a best guess in\",guesstaken )\n",
    "if guess!=number:\n",
    "    print(\"The guess was \",number)\n"
   ]
  }
 ],
 "metadata": {
  "kernelspec": {
   "display_name": "Python 3",
   "language": "python",
   "name": "python3"
  },
  "language_info": {
   "codemirror_mode": {
    "name": "ipython",
    "version": 3
   },
   "file_extension": ".py",
   "mimetype": "text/x-python",
   "name": "python",
   "nbconvert_exporter": "python",
   "pygments_lexer": "ipython3",
   "version": "3.7.4"
  }
 },
 "nbformat": 4,
 "nbformat_minor": 2
}
