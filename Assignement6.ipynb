{
 "cells": [
  {
   "cell_type": "markdown",
   "metadata": {},
   "source": [
    "# Question:1 "
   ]
  },
  {
   "cell_type": "markdown",
   "metadata": {},
   "source": [
    "Define Object Oriented Programming Language?\n",
    "Ans: An object-oriented programming language (OOPL) is a high-level programming language based on the object-oriented model.\n",
    "Object-oriented programming (OOP) is a programming paradigm based on the concept of \"objects\", which can contain data, in the form of attributes or properties, and code in the form of methods)."
   ]
  },
  {
   "cell_type": "markdown",
   "metadata": {},
   "source": [
    "# Question:2 "
   ]
  },
  {
   "cell_type": "markdown",
   "metadata": {},
   "source": [
    "# List down the Benefits of OOP?\n",
    "Ans:1.Reusability\n",
    "    2.Data Redundancy\n",
    "    3.Security\n",
    "    4.Design Benifits\n",
    "    5.Code Maintaince\n",
    "    6.Better Productivity\n",
    "    7.Easy Troubleshooting\n",
    "    8.Polymorphism Flexibility\n",
    "    9.Problem Solving"
   ]
  },
  {
   "cell_type": "markdown",
   "metadata": {},
   "source": [
    "# Question:3"
   ]
  },
  {
   "cell_type": "markdown",
   "metadata": {},
   "source": [
    "Differentiate between function and method?\n",
    "\n",
    "Function:\n",
    "A function is a piece of code that is called by name. It can be passed data to operate on (i.e. the parameters) and can optionally return data (the return value). All data that is passed to a function is explicitly passed.\n",
    "\n",
    "Method:\n",
    "A method is a piece of code that is called by a name that is associated with an object. In most respects it is identical to a function except for two key differences:\n",
    "\n",
    "A method is implicitly passed the object on which it was called.\n",
    "A method is able to operate on data that is contained within the class (remembering that an object is an instance of a class - the class is the definition, the object is an instance of that data)."
   ]
  },
  {
   "cell_type": "markdown",
   "metadata": {},
   "source": [
    "# Question:4"
   ]
  },
  {
   "cell_type": "markdown",
   "metadata": {},
   "source": [
    "Define the Following Terms:\n",
    "Class:\n",
    "    In OOP the class is a blueprint for creating a object(particularly data structure),providing intail values for state(attributes) and implementation of behaviour(methods).The Class is a bluerpitn to define the nature of future object.\n",
    "\n",
    "Object:\n",
    "    A unique instance of a data structure that's defined by its class. An object comprises both data members (class variables and instance variables) and methods.\n",
    "\n",
    "Attributes:\n",
    "    Attributes are data stored inside a class or instance and represent the state or quality of the class or instance. In short, attributes store information about the instance.\n",
    "\n",
    "Behaviour:\n",
    "    The behavior of an object is defined by its methods, which are the functions and subroutines defined within the object class."
   ]
  },
  {
   "cell_type": "markdown",
   "metadata": {},
   "source": [
    "# Question:5"
   ]
  },
  {
   "cell_type": "markdown",
   "metadata": {},
   "source": [
    "Write a code in python in which create a class named it Car which have 5 attributes such like (model, color and name etc.) and 3 methods. And create 5 object instance from that class."
   ]
  },
  {
   "cell_type": "code",
   "execution_count": 16,
   "metadata": {},
   "outputs": [
    {
     "name": "stdout",
     "output_type": "stream",
     "text": [
      "Suzuki Name is Mehran\n",
      "Color of my BMW Blue\n",
      "8 pessengers can sit in Fortunre\n",
      "Old model of Corola is 2k15\n",
      "New model of Corola is 2k17\n",
      "160 km/h Old Speed of Ferrari\n",
      "320 New Speed of Ferrari\n"
     ]
    }
   ],
   "source": [
    "class car():\n",
    "    def __init__(self,model,color,name,pessenger,speed):\n",
    "        #Attributes\n",
    "        self.model=model\n",
    "        self.color=color\n",
    "        self.name=name\n",
    "        self.pessenger=pessenger\n",
    "        self.speed=speed\n",
    "    #methods\n",
    "    def accelration(self):\n",
    "        self.speed*=2\n",
    "    def newcolor(self,newcolor):\n",
    "        self.color=newcolor\n",
    "    def newmodel(self,newmodel):\n",
    "        self.model=newmodel\n",
    "        #print(self.speed)\n",
    "#i m using speed in int because of methos we can uodate just int values  \n",
    "#instances of object\n",
    "ferrari=car('2k19','Red','Ferrari',4,160)\n",
    "bmw=car('2k16','Blue','BMW',5,120)\n",
    "fortunre=car('2k17','Black','Fortunre',8,140)\n",
    "corola=car('2k15','Golden','Corola',5,110)\n",
    "suzuki=car('2k14','Silver','Mehran',5,100)\n",
    "\n",
    "print('Suzuki Name is',suzuki.name)\n",
    "print('Color of my BMW',bmw.color)\n",
    "print(fortunre.pessenger,'pessengers can sit in',fortunre.name)\n",
    "print('Old model of',corola.name,'is',corola.model)\n",
    "corola.newmodel('2k17')\n",
    "print('New model of',corola.name,'is',corola.model)\n",
    "print(ferrari.speed,'km/h Old Speed of',ferrari.name)\n",
    "ferrari.accelration()\n",
    "print(ferrari.speed,'New Speed of',ferrari.name)"
   ]
  },
  {
   "cell_type": "code",
   "execution_count": null,
   "metadata": {},
   "outputs": [],
   "source": []
  }
 ],
 "metadata": {
  "kernelspec": {
   "display_name": "Python 3",
   "language": "python",
   "name": "python3"
  },
  "language_info": {
   "codemirror_mode": {
    "name": "ipython",
    "version": 3
   },
   "file_extension": ".py",
   "mimetype": "text/x-python",
   "name": "python",
   "nbconvert_exporter": "python",
   "pygments_lexer": "ipython3",
   "version": "3.7.4"
  }
 },
 "nbformat": 4,
 "nbformat_minor": 2
}
