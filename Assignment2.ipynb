{
 "cells": [
  {
   "cell_type": "markdown",
   "metadata": {},
   "source": [
    "# Question 1"
   ]
  },
  {
   "cell_type": "code",
   "execution_count": 1,
   "metadata": {},
   "outputs": [
    {
     "name": "stdout",
     "output_type": "stream",
     "text": [
      "Urdu: 55\n",
      "English: 77\n",
      "Science:66\n",
      "S.St: 44\n",
      "Maths: 88\n",
      "Your total Marks are:  330\n",
      "Your Percentage is:  66.0\n",
      "Your Grade is C\n"
     ]
    }
   ],
   "source": [
    "'Enter Your Marks in the follwing Subjects'\n",
    "urdu=int(input(\"Urdu: \"))\n",
    "english=int(input(\"English: \"))\n",
    "science=int(input(\"Science:\"))\n",
    "s_st=int(input(\"S.St: \"))\n",
    "maths=int(input(\"Maths: \"))\n",
    "total=urdu+english+science+s_st+maths\n",
    "print(\"Your total Marks are: \",total)\n",
    "prcntg=total/500*100\n",
    "print(\"Your Percentage is: \",prcntg)\n",
    "if prcntg>=90:\n",
    "    print(\"Your Grade is A+\")\n",
    "elif prcntg>=80:\n",
    "    print(\"Your Grade is A\")\n",
    "elif prcntg>=70:\n",
    "    print(\"Your Grade is B\")\n",
    "elif prcntg>=60:\n",
    "    print(\"Your Grade is C\")\n",
    "elif prcntg>=40:\n",
    "    print(\"Your Grade is D\")\n",
    "else:\n",
    "    print(\"Your Grade is F\")"
   ]
  },
  {
   "cell_type": "markdown",
   "metadata": {},
   "source": [
    "# Question 2"
   ]
  },
  {
   "cell_type": "code",
   "execution_count": 2,
   "metadata": {},
   "outputs": [
    {
     "name": "stdout",
     "output_type": "stream",
     "text": [
      "Enter any integer Number00\n",
      "0  is Even\n"
     ]
    }
   ],
   "source": [
    "number=int(input(\"Enter any integer Number\"))\n",
    "if(number%2==0):\n",
    "    print(number,\" is Even\")\n",
    "else:\n",
    "    print(number,\" is Odd\")"
   ]
  },
  {
   "cell_type": "markdown",
   "metadata": {},
   "source": [
    "# Question 3"
   ]
  },
  {
   "cell_type": "code",
   "execution_count": 3,
   "metadata": {},
   "outputs": [
    {
     "data": {
      "text/plain": [
       "11"
      ]
     },
     "execution_count": 3,
     "metadata": {},
     "output_type": "execute_result"
    }
   ],
   "source": [
    "list1=[1, 1, 2, 3, 5, 8, 13, 21, 34, 55, 89]\n",
    "len(list1)"
   ]
  },
  {
   "cell_type": "markdown",
   "metadata": {},
   "source": [
    "# Question 4"
   ]
  },
  {
   "cell_type": "code",
   "execution_count": 4,
   "metadata": {},
   "outputs": [
    {
     "data": {
      "text/plain": [
       "232"
      ]
     },
     "execution_count": 4,
     "metadata": {},
     "output_type": "execute_result"
    }
   ],
   "source": [
    "sum=0\n",
    "for item in list1:\n",
    "    sum+=item\n",
    "sum"
   ]
  },
  {
   "cell_type": "markdown",
   "metadata": {},
   "source": [
    "# Question 5"
   ]
  },
  {
   "cell_type": "code",
   "execution_count": 5,
   "metadata": {},
   "outputs": [
    {
     "name": "stdout",
     "output_type": "stream",
     "text": [
      "1\n",
      "1\n",
      "2\n",
      "3\n"
     ]
    }
   ],
   "source": [
    "for item in list1:\n",
    "    if item<5:\n",
    "        print(item)"
   ]
  }
 ],
 "metadata": {
  "kernelspec": {
   "display_name": "Python 3",
   "language": "python",
   "name": "python3"
  },
  "language_info": {
   "codemirror_mode": {
    "name": "ipython",
    "version": 3
   },
   "file_extension": ".py",
   "mimetype": "text/x-python",
   "name": "python",
   "nbconvert_exporter": "python",
   "pygments_lexer": "ipython3",
   "version": "3.7.4"
  }
 },
 "nbformat": 4,
 "nbformat_minor": 2
}
